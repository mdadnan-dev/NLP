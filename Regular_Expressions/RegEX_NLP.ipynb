{
 "cells": [
  {
   "cell_type": "code",
   "execution_count": 1,
   "metadata": {},
   "outputs": [],
   "source": [
    "import re    # Importing Regular Expression"
   ]
  },
  {
   "cell_type": "code",
   "execution_count": 7,
   "metadata": {},
   "outputs": [],
   "source": [
    "chat_1 = \"What is your mail and phone Number ?\"\n",
    "chat_2 = \"details are acb@gym.com, 4661009011\"\n",
    "chat_3 = '''Phone Number - 1239984951\n",
    "            Phone Number : (123)-998-4951\n",
    "            email - mdad123@xxa.com '''\n",
    "\n",
    "chat_4 = \"email - asd_12@gas.co, email - user@company.us\"\n"
   ]
  },
  {
   "cell_type": "code",
   "execution_count": null,
   "metadata": {},
   "outputs": [
    {
     "data": {
      "text/plain": [
       "['4661009011']"
      ]
     },
     "execution_count": 3,
     "metadata": {},
     "output_type": "execute_result"
    }
   ],
   "source": [
    "pattern = '\\d{10}'   # This states total number of digits must be 10\n",
    "result = re.findall(pattern, chat_2)  # re.findall checks the details that match the pattern from chat2 and stores the result\n",
    "result"
   ]
  },
  {
   "cell_type": "code",
   "execution_count": 6,
   "metadata": {},
   "outputs": [
    {
     "data": {
      "text/plain": [
       "['1239984951', '(123)-998-4951']"
      ]
     },
     "execution_count": 6,
     "metadata": {},
     "output_type": "execute_result"
    }
   ],
   "source": [
    "pattern = '\\(\\d{3}\\)-\\d{3}-\\d{4}|\\d{10}' # This pattern checks that the pattern is in '(123)-998-4951' or contains total 10 digits\n",
    "result = re.findall(pattern, chat_3)\n",
    "result "
   ]
  },
  {
   "cell_type": "code",
   "execution_count": null,
   "metadata": {},
   "outputs": [
    {
     "data": {
      "text/plain": [
       "['mdad123@xxa.com']"
      ]
     },
     "execution_count": 8,
     "metadata": {},
     "output_type": "execute_result"
    }
   ],
   "source": [
    "pattern = '[a-z0-9A-Z_]*@[a-z0-9A-Z]*\\.[a-zA-z]*'  # This pattern is used to extract email address\n",
    "result = re.findall(pattern, chat_3)\n",
    "result"
   ]
  },
  {
   "cell_type": "code",
   "execution_count": null,
   "metadata": {},
   "outputs": [
    {
     "data": {
      "text/plain": [
       "['asd_12@gas.co', 'user@company.us']"
      ]
     },
     "execution_count": 9,
     "metadata": {},
     "output_type": "execute_result"
    }
   ],
   "source": [
    "result = re.findall(pattern, chat_4)  # finds the email address from chat_4 \n",
    "result"
   ]
  },
  {
   "cell_type": "code",
   "execution_count": 10,
   "metadata": {},
   "outputs": [],
   "source": [
    "chat_1 = \" Hello, I am having an issue with my order # 412889912 \"\n",
    "chat_2 = \" I have a problem with my order number 412889912 \"\n",
    "chat_3 = \" My order 412889912 is having an issue, I was charged 2500 when online it says 2000 \""
   ]
  },
  {
   "cell_type": "code",
   "execution_count": null,
   "metadata": {},
   "outputs": [
    {
     "data": {
      "text/plain": [
       "['412889912']"
      ]
     },
     "execution_count": 11,
     "metadata": {},
     "output_type": "execute_result"
    }
   ],
   "source": [
    "pattern = 'order [^\\d]*(\\d*)'  # This creates a pattern to extract the number from \n",
    "                               # order # 412889912 , order number 412889912, order 412889912\n",
    "                               # final result will be 412889912\n",
    "result = re.findall(pattern, chat_1)  \n",
    "result"
   ]
  },
  {
   "cell_type": "code",
   "execution_count": 12,
   "metadata": {},
   "outputs": [
    {
     "data": {
      "text/plain": [
       "['412889912']"
      ]
     },
     "execution_count": 12,
     "metadata": {},
     "output_type": "execute_result"
    }
   ],
   "source": [
    "result = re.findall(pattern, chat_2)\n",
    "result"
   ]
  },
  {
   "cell_type": "code",
   "execution_count": 13,
   "metadata": {},
   "outputs": [
    {
     "data": {
      "text/plain": [
       "['412889912']"
      ]
     },
     "execution_count": 13,
     "metadata": {},
     "output_type": "execute_result"
    }
   ],
   "source": [
    "result = re.findall(pattern, chat_3)\n",
    "result"
   ]
  },
  {
   "cell_type": "code",
   "execution_count": 14,
   "metadata": {},
   "outputs": [],
   "source": [
    "text = ''' Personal information\n",
    "Full name\tCristiano Ronaldo dos Santos Aveiro[1]\n",
    "Date of birth\t5 February 1985 (age 40)[2]\n",
    "Place of birth\tFunchal, Madeira, Portugal\n",
    "Height\t1.87 m (6 ft 2 in)[note 1]\n",
    "Position(s)\tForward\n",
    "Team information\n",
    "Current team\tAl Nassr\n",
    "Number\t7\n",
    "Youth career\n",
    "1992–1995\tAndorinha\n",
    "1995–1997\tNacional\n",
    "1997–2002\tSporting CP\n",
    "Senior career*\n",
    "Years\tTeam\tApps\t(Gls)\n",
    "2002–2003\tSporting CP B\t2\t(0)\n",
    "2002–2003\tSporting CP\t25\t(3)\n",
    "2003–2009\tManchester United\t196\t(84)\n",
    "2009–2018\tReal Madrid\t292\t(311)\n",
    "2018–2021\tJuventus\t98\t(81)\n",
    "2021–2022\tManchester United\t40\t(19)\n",
    "2023–\tAl Nassr\t71\t(68)\n",
    "International career‡\n",
    "2001\tPortugal U15\t9\t(7)\n",
    "2001–2002\tPortugal U17\t7\t(5)\n",
    "2003\tPortugal U20\t5\t(1)\n",
    "2002–2003\tPortugal U21\t10\t(3)\n",
    "2004\tPortugal U23\t3\t(2)\n",
    "2003–\tPortugal\t217\t(135) '''"
   ]
  },
  {
   "cell_type": "code",
   "execution_count": null,
   "metadata": {},
   "outputs": [
    {
     "data": {
      "text/plain": [
       "['40']"
      ]
     },
     "execution_count": 15,
     "metadata": {},
     "output_type": "execute_result"
    }
   ],
   "source": [
    "pattern = 'age (\\d+)'  # This extracts the age of the person from the above text \n",
    "result = re.findall(pattern, text)\n",
    "result"
   ]
  },
  {
   "cell_type": "code",
   "execution_count": 31,
   "metadata": {},
   "outputs": [
    {
     "data": {
      "text/plain": [
       "'Cristiano Ronaldo dos Santos Aveiro'"
      ]
     },
     "execution_count": 31,
     "metadata": {},
     "output_type": "execute_result"
    }
   ],
   "source": [
    "pattern = 'name(.*)\\['\n",
    "name_result = re.findall(pattern, text)\n",
    "name_result[0].strip()"
   ]
  },
  {
   "cell_type": "code",
   "execution_count": 32,
   "metadata": {},
   "outputs": [
    {
     "data": {
      "text/plain": [
       "['5 February 1985 ']"
      ]
     },
     "execution_count": 32,
     "metadata": {},
     "output_type": "execute_result"
    }
   ],
   "source": [
    "pattern = 'name.*\\[1]\\nDate.of.birth.(.*)\\(age'\n",
    "DOB_result = re.findall(pattern, text)\n",
    "DOB_result"
   ]
  },
  {
   "cell_type": "code",
   "execution_count": 34,
   "metadata": {},
   "outputs": [
    {
     "data": {
      "text/plain": [
       "['Funchal, Madeira, Portugal']"
      ]
     },
     "execution_count": 34,
     "metadata": {},
     "output_type": "execute_result"
    }
   ],
   "source": [
    "pattern = '\\[2]\\nPlace.of.birth.(.*)'\n",
    "POB_result = re.findall(pattern, text)\n",
    "POB_result"
   ]
  },
  {
   "cell_type": "code",
   "execution_count": 37,
   "metadata": {},
   "outputs": [
    {
     "name": "stdout",
     "output_type": "stream",
     "text": [
      "Name Cristiano Ronaldo dos Santos Aveiro\n",
      "Date Of Birth 5 February 1985  \n",
      "Place Of Birth Funchal, Madeira, Portugal\n"
     ]
    }
   ],
   "source": [
    "print(f\"Name {name_result[0].strip()}\\nDate Of Birth {DOB_result[0]} \\nPlace Of Birth {POB_result[0]}\")"
   ]
  },
  {
   "cell_type": "code",
   "execution_count": null,
   "metadata": {},
   "outputs": [],
   "source": [
    "def information_Extraction(pattern, text):\n",
    "    matches = re.findall(pattern, text)\n",
    "    \n"
   ]
  }
 ],
 "metadata": {
  "kernelspec": {
   "display_name": "base",
   "language": "python",
   "name": "python3"
  },
  "language_info": {
   "codemirror_mode": {
    "name": "ipython",
    "version": 3
   },
   "file_extension": ".py",
   "mimetype": "text/x-python",
   "name": "python",
   "nbconvert_exporter": "python",
   "pygments_lexer": "ipython3",
   "version": "3.11.5"
  }
 },
 "nbformat": 4,
 "nbformat_minor": 2
}
